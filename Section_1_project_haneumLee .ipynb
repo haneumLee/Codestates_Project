{
  "nbformat": 4,
  "nbformat_minor": 0,
  "metadata": {
    "colab": {
      "name": "Section_1_project_haneumLee.ipynb",
      "provenance": [],
      "collapsed_sections": []
    },
    "kernelspec": {
      "display_name": "Python 3",
      "name": "python3"
    }
  },
  "cells": [
    {
      "cell_type": "markdown",
      "metadata": {
        "id": "W2033QZrL0uz"
      },
      "source": [
        "이한음님은 게임 회사의 데이터 팀에 합류했습니다.\r\n",
        "\r\n",
        "다음 분기에 어떤 게임을 설계해야 할까\r\n",
        "\r\n",
        "라는 고민을 해결하기 위해, 기존의 데이터에 기반하여 인사이트를 얻고, 의사결정을 하고자 하는 것이 여러분의 목표입니다."
      ]
    },
    {
      "cell_type": "code",
      "metadata": {
        "colab": {
          "resources": {
            "http://localhost:8080/nbextensions/google.colab/files.js": {
              "data": "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",
              "ok": true,
              "headers": [
                [
                  "content-type",
                  "application/javascript"
                ]
              ],
              "status": 200,
              "status_text": ""
            }
          },
          "base_uri": "https://localhost:8080/",
          "height": 73
        },
        "id": "iTS8aV_RLuew",
        "outputId": "0581594c-9ed6-4c5c-8b76-e6c04b67985c"
      },
      "source": [
        "from google.colab import files\r\n",
        "file = files.upload()"
      ],
      "execution_count": 1,
      "outputs": [
        {
          "output_type": "display_data",
          "data": {
            "text/html": [
              "\n",
              "     <input type=\"file\" id=\"files-d61da37c-61b4-4955-92af-d89127759cc8\" name=\"files[]\" multiple disabled\n",
              "        style=\"border:none\" />\n",
              "     <output id=\"result-d61da37c-61b4-4955-92af-d89127759cc8\">\n",
              "      Upload widget is only available when the cell has been executed in the\n",
              "      current browser session. Please rerun this cell to enable.\n",
              "      </output>\n",
              "      <script src=\"/nbextensions/google.colab/files.js\"></script> "
            ],
            "text/plain": [
              "<IPython.core.display.HTML object>"
            ]
          },
          "metadata": {
            "tags": []
          }
        },
        {
          "output_type": "stream",
          "text": [
            "Saving vgames2.csv to vgames2 (1).csv\n"
          ],
          "name": "stdout"
        }
      ]
    },
    {
      "cell_type": "code",
      "metadata": {
        "colab": {
          "base_uri": "https://localhost:8080/",
          "height": 470
        },
        "id": "2fWyZh5FOBrD",
        "outputId": "7f7065ef-9943-40f7-8b3d-c2f115c2fe11"
      },
      "source": [
        "import io\r\n",
        "import pandas as pd\r\n",
        "df = pd.read_csv(io.BytesIO(file['vgames2.csv']), encoding='UTF8')\r\n",
        "df"
      ],
      "execution_count": 2,
      "outputs": [
        {
          "output_type": "execute_result",
          "data": {
            "text/html": [
              "<div>\n",
              "<style scoped>\n",
              "    .dataframe tbody tr th:only-of-type {\n",
              "        vertical-align: middle;\n",
              "    }\n",
              "\n",
              "    .dataframe tbody tr th {\n",
              "        vertical-align: top;\n",
              "    }\n",
              "\n",
              "    .dataframe thead th {\n",
              "        text-align: right;\n",
              "    }\n",
              "</style>\n",
              "<table border=\"1\" class=\"dataframe\">\n",
              "  <thead>\n",
              "    <tr style=\"text-align: right;\">\n",
              "      <th></th>\n",
              "      <th>Unnamed: 0</th>\n",
              "      <th>Name</th>\n",
              "      <th>Platform</th>\n",
              "      <th>Year</th>\n",
              "      <th>Genre</th>\n",
              "      <th>Publisher</th>\n",
              "      <th>NA_Sales</th>\n",
              "      <th>EU_Sales</th>\n",
              "      <th>JP_Sales</th>\n",
              "      <th>Other_Sales</th>\n",
              "    </tr>\n",
              "  </thead>\n",
              "  <tbody>\n",
              "    <tr>\n",
              "      <th>0</th>\n",
              "      <td>1</td>\n",
              "      <td>Candace Kane's Candy Factory</td>\n",
              "      <td>DS</td>\n",
              "      <td>2008.0</td>\n",
              "      <td>Action</td>\n",
              "      <td>Destineer</td>\n",
              "      <td>0.04</td>\n",
              "      <td>0</td>\n",
              "      <td>0</td>\n",
              "      <td>0</td>\n",
              "    </tr>\n",
              "    <tr>\n",
              "      <th>1</th>\n",
              "      <td>2</td>\n",
              "      <td>The Munchables</td>\n",
              "      <td>Wii</td>\n",
              "      <td>2009.0</td>\n",
              "      <td>Action</td>\n",
              "      <td>Namco Bandai Games</td>\n",
              "      <td>0.17</td>\n",
              "      <td>0</td>\n",
              "      <td>0</td>\n",
              "      <td>0.01</td>\n",
              "    </tr>\n",
              "    <tr>\n",
              "      <th>2</th>\n",
              "      <td>3</td>\n",
              "      <td>Otome wa Oanesama Boku ni Koi Shiteru Portable</td>\n",
              "      <td>PSP</td>\n",
              "      <td>2010.0</td>\n",
              "      <td>Adventure</td>\n",
              "      <td>Alchemist</td>\n",
              "      <td>0</td>\n",
              "      <td>0</td>\n",
              "      <td>0.02</td>\n",
              "      <td>0</td>\n",
              "    </tr>\n",
              "    <tr>\n",
              "      <th>3</th>\n",
              "      <td>4</td>\n",
              "      <td>Deal or No Deal: Special Edition</td>\n",
              "      <td>DS</td>\n",
              "      <td>2010.0</td>\n",
              "      <td>Misc</td>\n",
              "      <td>Zoo Games</td>\n",
              "      <td>0.04</td>\n",
              "      <td>0</td>\n",
              "      <td>0</td>\n",
              "      <td>0</td>\n",
              "    </tr>\n",
              "    <tr>\n",
              "      <th>4</th>\n",
              "      <td>5</td>\n",
              "      <td>Ben 10 Ultimate Alien: Cosmic Destruction</td>\n",
              "      <td>PS3</td>\n",
              "      <td>2010.0</td>\n",
              "      <td>Platform</td>\n",
              "      <td>D3Publisher</td>\n",
              "      <td>0.12</td>\n",
              "      <td>0.09</td>\n",
              "      <td>0</td>\n",
              "      <td>0.04</td>\n",
              "    </tr>\n",
              "    <tr>\n",
              "      <th>...</th>\n",
              "      <td>...</td>\n",
              "      <td>...</td>\n",
              "      <td>...</td>\n",
              "      <td>...</td>\n",
              "      <td>...</td>\n",
              "      <td>...</td>\n",
              "      <td>...</td>\n",
              "      <td>...</td>\n",
              "      <td>...</td>\n",
              "      <td>...</td>\n",
              "    </tr>\n",
              "    <tr>\n",
              "      <th>16593</th>\n",
              "      <td>16594</td>\n",
              "      <td>Ice Age 2: The Meltdown</td>\n",
              "      <td>GC</td>\n",
              "      <td>2006.0</td>\n",
              "      <td>Platform</td>\n",
              "      <td>Vivendi Games</td>\n",
              "      <td>0.15</td>\n",
              "      <td>0.04</td>\n",
              "      <td>0</td>\n",
              "      <td>0.01</td>\n",
              "    </tr>\n",
              "    <tr>\n",
              "      <th>16594</th>\n",
              "      <td>16595</td>\n",
              "      <td>Rainbow Islands: Revolution</td>\n",
              "      <td>PSP</td>\n",
              "      <td>2005.0</td>\n",
              "      <td>Action</td>\n",
              "      <td>Rising Star Games</td>\n",
              "      <td>0.01</td>\n",
              "      <td>0</td>\n",
              "      <td>0</td>\n",
              "      <td>0</td>\n",
              "    </tr>\n",
              "    <tr>\n",
              "      <th>16595</th>\n",
              "      <td>16596</td>\n",
              "      <td>NBA 2K16</td>\n",
              "      <td>PS3</td>\n",
              "      <td>2015.0</td>\n",
              "      <td>Sports</td>\n",
              "      <td>Take-Two Interactive</td>\n",
              "      <td>0.44</td>\n",
              "      <td>0.19</td>\n",
              "      <td>0.03</td>\n",
              "      <td>0.13</td>\n",
              "    </tr>\n",
              "    <tr>\n",
              "      <th>16596</th>\n",
              "      <td>16597</td>\n",
              "      <td>Toukiden: The Age of Demons</td>\n",
              "      <td>PSV</td>\n",
              "      <td>2013.0</td>\n",
              "      <td>Action</td>\n",
              "      <td>Tecmo Koei</td>\n",
              "      <td>0.05</td>\n",
              "      <td>0.05</td>\n",
              "      <td>0.25</td>\n",
              "      <td>0.03</td>\n",
              "    </tr>\n",
              "    <tr>\n",
              "      <th>16597</th>\n",
              "      <td>16598</td>\n",
              "      <td>The King of Fighters '95</td>\n",
              "      <td>PS</td>\n",
              "      <td>1996.0</td>\n",
              "      <td>Fighting</td>\n",
              "      <td>Sony Computer Entertainment</td>\n",
              "      <td>0</td>\n",
              "      <td>0</td>\n",
              "      <td>0.16</td>\n",
              "      <td>0.01</td>\n",
              "    </tr>\n",
              "  </tbody>\n",
              "</table>\n",
              "<p>16598 rows × 10 columns</p>\n",
              "</div>"
            ],
            "text/plain": [
              "       Unnamed: 0  ... Other_Sales\n",
              "0               1  ...           0\n",
              "1               2  ...        0.01\n",
              "2               3  ...           0\n",
              "3               4  ...           0\n",
              "4               5  ...        0.04\n",
              "...           ...  ...         ...\n",
              "16593       16594  ...        0.01\n",
              "16594       16595  ...           0\n",
              "16595       16596  ...        0.13\n",
              "16596       16597  ...        0.03\n",
              "16597       16598  ...        0.01\n",
              "\n",
              "[16598 rows x 10 columns]"
            ]
          },
          "metadata": {
            "tags": []
          },
          "execution_count": 2
        }
      ]
    },
    {
      "cell_type": "code",
      "metadata": {
        "colab": {
          "base_uri": "https://localhost:8080/"
        },
        "id": "Qp0Ob4MSA-34",
        "outputId": "75f53076-9bef-4787-b7ee-87f0ede30c36"
      },
      "source": [
        "# 데이터 기본정보 확인\r\n",
        "df.info()"
      ],
      "execution_count": 3,
      "outputs": [
        {
          "output_type": "stream",
          "text": [
            "<class 'pandas.core.frame.DataFrame'>\n",
            "RangeIndex: 16598 entries, 0 to 16597\n",
            "Data columns (total 10 columns):\n",
            " #   Column       Non-Null Count  Dtype  \n",
            "---  ------       --------------  -----  \n",
            " 0   Unnamed: 0   16598 non-null  int64  \n",
            " 1   Name         16598 non-null  object \n",
            " 2   Platform     16598 non-null  object \n",
            " 3   Year         16327 non-null  float64\n",
            " 4   Genre        16548 non-null  object \n",
            " 5   Publisher    16540 non-null  object \n",
            " 6   NA_Sales     16598 non-null  object \n",
            " 7   EU_Sales     16598 non-null  object \n",
            " 8   JP_Sales     16598 non-null  object \n",
            " 9   Other_Sales  16598 non-null  object \n",
            "dtypes: float64(1), int64(1), object(8)\n",
            "memory usage: 1.3+ MB\n"
          ],
          "name": "stdout"
        }
      ]
    },
    {
      "cell_type": "code",
      "metadata": {
        "colab": {
          "base_uri": "https://localhost:8080/"
        },
        "id": "0yG5YqSfB1oA",
        "outputId": "9facbf3c-07e5-4541-981e-5f30f9971f03"
      },
      "source": [
        "# 데이터 결측치 확인\r\n",
        "df.isnull().sum()"
      ],
      "execution_count": 4,
      "outputs": [
        {
          "output_type": "execute_result",
          "data": {
            "text/plain": [
              "Unnamed: 0       0\n",
              "Name             0\n",
              "Platform         0\n",
              "Year           271\n",
              "Genre           50\n",
              "Publisher       58\n",
              "NA_Sales         0\n",
              "EU_Sales         0\n",
              "JP_Sales         0\n",
              "Other_Sales      0\n",
              "dtype: int64"
            ]
          },
          "metadata": {
            "tags": []
          },
          "execution_count": 4
        }
      ]
    },
    {
      "cell_type": "code",
      "metadata": {
        "colab": {
          "base_uri": "https://localhost:8080/",
          "height": 470
        },
        "id": "5equoa1lK7re",
        "outputId": "9bccda75-11d0-4815-814e-71e3a75f1cfc"
      },
      "source": [
        "# 16598 개의 데이터중 379 개의 데이터가 년도, 장르, 제작회사를 모르므로 일단 제외\r\n",
        "df2 = df.dropna()\r\n",
        "df2"
      ],
      "execution_count": 5,
      "outputs": [
        {
          "output_type": "execute_result",
          "data": {
            "text/html": [
              "<div>\n",
              "<style scoped>\n",
              "    .dataframe tbody tr th:only-of-type {\n",
              "        vertical-align: middle;\n",
              "    }\n",
              "\n",
              "    .dataframe tbody tr th {\n",
              "        vertical-align: top;\n",
              "    }\n",
              "\n",
              "    .dataframe thead th {\n",
              "        text-align: right;\n",
              "    }\n",
              "</style>\n",
              "<table border=\"1\" class=\"dataframe\">\n",
              "  <thead>\n",
              "    <tr style=\"text-align: right;\">\n",
              "      <th></th>\n",
              "      <th>Unnamed: 0</th>\n",
              "      <th>Name</th>\n",
              "      <th>Platform</th>\n",
              "      <th>Year</th>\n",
              "      <th>Genre</th>\n",
              "      <th>Publisher</th>\n",
              "      <th>NA_Sales</th>\n",
              "      <th>EU_Sales</th>\n",
              "      <th>JP_Sales</th>\n",
              "      <th>Other_Sales</th>\n",
              "    </tr>\n",
              "  </thead>\n",
              "  <tbody>\n",
              "    <tr>\n",
              "      <th>0</th>\n",
              "      <td>1</td>\n",
              "      <td>Candace Kane's Candy Factory</td>\n",
              "      <td>DS</td>\n",
              "      <td>2008.0</td>\n",
              "      <td>Action</td>\n",
              "      <td>Destineer</td>\n",
              "      <td>0.04</td>\n",
              "      <td>0</td>\n",
              "      <td>0</td>\n",
              "      <td>0</td>\n",
              "    </tr>\n",
              "    <tr>\n",
              "      <th>1</th>\n",
              "      <td>2</td>\n",
              "      <td>The Munchables</td>\n",
              "      <td>Wii</td>\n",
              "      <td>2009.0</td>\n",
              "      <td>Action</td>\n",
              "      <td>Namco Bandai Games</td>\n",
              "      <td>0.17</td>\n",
              "      <td>0</td>\n",
              "      <td>0</td>\n",
              "      <td>0.01</td>\n",
              "    </tr>\n",
              "    <tr>\n",
              "      <th>2</th>\n",
              "      <td>3</td>\n",
              "      <td>Otome wa Oanesama Boku ni Koi Shiteru Portable</td>\n",
              "      <td>PSP</td>\n",
              "      <td>2010.0</td>\n",
              "      <td>Adventure</td>\n",
              "      <td>Alchemist</td>\n",
              "      <td>0</td>\n",
              "      <td>0</td>\n",
              "      <td>0.02</td>\n",
              "      <td>0</td>\n",
              "    </tr>\n",
              "    <tr>\n",
              "      <th>3</th>\n",
              "      <td>4</td>\n",
              "      <td>Deal or No Deal: Special Edition</td>\n",
              "      <td>DS</td>\n",
              "      <td>2010.0</td>\n",
              "      <td>Misc</td>\n",
              "      <td>Zoo Games</td>\n",
              "      <td>0.04</td>\n",
              "      <td>0</td>\n",
              "      <td>0</td>\n",
              "      <td>0</td>\n",
              "    </tr>\n",
              "    <tr>\n",
              "      <th>4</th>\n",
              "      <td>5</td>\n",
              "      <td>Ben 10 Ultimate Alien: Cosmic Destruction</td>\n",
              "      <td>PS3</td>\n",
              "      <td>2010.0</td>\n",
              "      <td>Platform</td>\n",
              "      <td>D3Publisher</td>\n",
              "      <td>0.12</td>\n",
              "      <td>0.09</td>\n",
              "      <td>0</td>\n",
              "      <td>0.04</td>\n",
              "    </tr>\n",
              "    <tr>\n",
              "      <th>...</th>\n",
              "      <td>...</td>\n",
              "      <td>...</td>\n",
              "      <td>...</td>\n",
              "      <td>...</td>\n",
              "      <td>...</td>\n",
              "      <td>...</td>\n",
              "      <td>...</td>\n",
              "      <td>...</td>\n",
              "      <td>...</td>\n",
              "      <td>...</td>\n",
              "    </tr>\n",
              "    <tr>\n",
              "      <th>16593</th>\n",
              "      <td>16594</td>\n",
              "      <td>Ice Age 2: The Meltdown</td>\n",
              "      <td>GC</td>\n",
              "      <td>2006.0</td>\n",
              "      <td>Platform</td>\n",
              "      <td>Vivendi Games</td>\n",
              "      <td>0.15</td>\n",
              "      <td>0.04</td>\n",
              "      <td>0</td>\n",
              "      <td>0.01</td>\n",
              "    </tr>\n",
              "    <tr>\n",
              "      <th>16594</th>\n",
              "      <td>16595</td>\n",
              "      <td>Rainbow Islands: Revolution</td>\n",
              "      <td>PSP</td>\n",
              "      <td>2005.0</td>\n",
              "      <td>Action</td>\n",
              "      <td>Rising Star Games</td>\n",
              "      <td>0.01</td>\n",
              "      <td>0</td>\n",
              "      <td>0</td>\n",
              "      <td>0</td>\n",
              "    </tr>\n",
              "    <tr>\n",
              "      <th>16595</th>\n",
              "      <td>16596</td>\n",
              "      <td>NBA 2K16</td>\n",
              "      <td>PS3</td>\n",
              "      <td>2015.0</td>\n",
              "      <td>Sports</td>\n",
              "      <td>Take-Two Interactive</td>\n",
              "      <td>0.44</td>\n",
              "      <td>0.19</td>\n",
              "      <td>0.03</td>\n",
              "      <td>0.13</td>\n",
              "    </tr>\n",
              "    <tr>\n",
              "      <th>16596</th>\n",
              "      <td>16597</td>\n",
              "      <td>Toukiden: The Age of Demons</td>\n",
              "      <td>PSV</td>\n",
              "      <td>2013.0</td>\n",
              "      <td>Action</td>\n",
              "      <td>Tecmo Koei</td>\n",
              "      <td>0.05</td>\n",
              "      <td>0.05</td>\n",
              "      <td>0.25</td>\n",
              "      <td>0.03</td>\n",
              "    </tr>\n",
              "    <tr>\n",
              "      <th>16597</th>\n",
              "      <td>16598</td>\n",
              "      <td>The King of Fighters '95</td>\n",
              "      <td>PS</td>\n",
              "      <td>1996.0</td>\n",
              "      <td>Fighting</td>\n",
              "      <td>Sony Computer Entertainment</td>\n",
              "      <td>0</td>\n",
              "      <td>0</td>\n",
              "      <td>0.16</td>\n",
              "      <td>0.01</td>\n",
              "    </tr>\n",
              "  </tbody>\n",
              "</table>\n",
              "<p>16241 rows × 10 columns</p>\n",
              "</div>"
            ],
            "text/plain": [
              "       Unnamed: 0  ... Other_Sales\n",
              "0               1  ...           0\n",
              "1               2  ...        0.01\n",
              "2               3  ...           0\n",
              "3               4  ...           0\n",
              "4               5  ...        0.04\n",
              "...           ...  ...         ...\n",
              "16593       16594  ...        0.01\n",
              "16594       16595  ...           0\n",
              "16595       16596  ...        0.13\n",
              "16596       16597  ...        0.03\n",
              "16597       16598  ...        0.01\n",
              "\n",
              "[16241 rows x 10 columns]"
            ]
          },
          "metadata": {
            "tags": []
          },
          "execution_count": 5
        }
      ]
    },
    {
      "cell_type": "code",
      "metadata": {
        "colab": {
          "base_uri": "https://localhost:8080/"
        },
        "id": "k3J7z3mN2XvJ",
        "outputId": "23f73edc-857c-4487-8312-04db71abd153"
      },
      "source": [
        "df2.isnull().sum()"
      ],
      "execution_count": 6,
      "outputs": [
        {
          "output_type": "execute_result",
          "data": {
            "text/plain": [
              "Unnamed: 0     0\n",
              "Name           0\n",
              "Platform       0\n",
              "Year           0\n",
              "Genre          0\n",
              "Publisher      0\n",
              "NA_Sales       0\n",
              "EU_Sales       0\n",
              "JP_Sales       0\n",
              "Other_Sales    0\n",
              "dtype: int64"
            ]
          },
          "metadata": {
            "tags": []
          },
          "execution_count": 6
        }
      ]
    },
    {
      "cell_type": "code",
      "metadata": {
        "colab": {
          "base_uri": "https://localhost:8080/"
        },
        "id": "qQcVUIKv5LLB",
        "outputId": "8674160b-9efa-409b-e875-f832889de03b"
      },
      "source": [
        "# 이상치 확인을 위한 최대값 최소값 확인\r\n",
        "import heapq\r\n",
        "print(heapq.nlargest(20, df2['Year']))\r\n",
        "print(heapq.nsmallest(20, df2['Year']))"
      ],
      "execution_count": 7,
      "outputs": [
        {
          "output_type": "stream",
          "text": [
            "[2020.0, 2017.0, 2017.0, 2017.0, 2016.0, 2016.0, 2016.0, 2016.0, 2016.0, 2016.0, 2016.0, 2016.0, 2016.0, 2016.0, 2016.0, 2016.0, 2016.0, 2016.0, 2016.0, 2016.0]\n",
            "[0.0, 0.0, 0.0, 1.0, 1.0, 2.0, 2.0, 2.0, 3.0, 3.0, 3.0, 3.0, 3.0, 3.0, 3.0, 4.0, 4.0, 4.0, 4.0, 5.0]\n"
          ],
          "name": "stdout"
        }
      ]
    },
    {
      "cell_type": "code",
      "metadata": {
        "colab": {
          "base_uri": "https://localhost:8080/",
          "height": 142
        },
        "id": "eRx4RX8L7r7r",
        "outputId": "58721af0-e895-4eca-ceef-91a0a034cede"
      },
      "source": [
        "# 년도에 0 값이 들어 있는 행 확인\r\n",
        "years = df2['Year'] == 0\r\n",
        "yresult = df2[years]\r\n",
        "yresult"
      ],
      "execution_count": 8,
      "outputs": [
        {
          "output_type": "execute_result",
          "data": {
            "text/html": [
              "<div>\n",
              "<style scoped>\n",
              "    .dataframe tbody tr th:only-of-type {\n",
              "        vertical-align: middle;\n",
              "    }\n",
              "\n",
              "    .dataframe tbody tr th {\n",
              "        vertical-align: top;\n",
              "    }\n",
              "\n",
              "    .dataframe thead th {\n",
              "        text-align: right;\n",
              "    }\n",
              "</style>\n",
              "<table border=\"1\" class=\"dataframe\">\n",
              "  <thead>\n",
              "    <tr style=\"text-align: right;\">\n",
              "      <th></th>\n",
              "      <th>Unnamed: 0</th>\n",
              "      <th>Name</th>\n",
              "      <th>Platform</th>\n",
              "      <th>Year</th>\n",
              "      <th>Genre</th>\n",
              "      <th>Publisher</th>\n",
              "      <th>NA_Sales</th>\n",
              "      <th>EU_Sales</th>\n",
              "      <th>JP_Sales</th>\n",
              "      <th>Other_Sales</th>\n",
              "    </tr>\n",
              "  </thead>\n",
              "  <tbody>\n",
              "    <tr>\n",
              "      <th>9276</th>\n",
              "      <td>9277</td>\n",
              "      <td>Trade &amp; Battle: Card Hero</td>\n",
              "      <td>GB</td>\n",
              "      <td>0.0</td>\n",
              "      <td>Strategy</td>\n",
              "      <td>Nintendo</td>\n",
              "      <td>0</td>\n",
              "      <td>0</td>\n",
              "      <td>0.2</td>\n",
              "      <td>0</td>\n",
              "    </tr>\n",
              "    <tr>\n",
              "      <th>14666</th>\n",
              "      <td>14667</td>\n",
              "      <td>Strider 2</td>\n",
              "      <td>PS</td>\n",
              "      <td>0.0</td>\n",
              "      <td>Platform</td>\n",
              "      <td>Virgin Interactive</td>\n",
              "      <td>0.05</td>\n",
              "      <td>0.03</td>\n",
              "      <td>0</td>\n",
              "      <td>0.01</td>\n",
              "    </tr>\n",
              "    <tr>\n",
              "      <th>16394</th>\n",
              "      <td>16395</td>\n",
              "      <td>Point Blank 3</td>\n",
              "      <td>PS</td>\n",
              "      <td>0.0</td>\n",
              "      <td>Shooter</td>\n",
              "      <td>Namco Bandai Games</td>\n",
              "      <td>0.01</td>\n",
              "      <td>0.01</td>\n",
              "      <td>0</td>\n",
              "      <td>0</td>\n",
              "    </tr>\n",
              "  </tbody>\n",
              "</table>\n",
              "</div>"
            ],
            "text/plain": [
              "       Unnamed: 0                       Name  ... JP_Sales  Other_Sales\n",
              "9276         9277  Trade & Battle: Card Hero  ...      0.2            0\n",
              "14666       14667                  Strider 2  ...        0         0.01\n",
              "16394       16395              Point Blank 3  ...        0            0\n",
              "\n",
              "[3 rows x 10 columns]"
            ]
          },
          "metadata": {
            "tags": []
          },
          "execution_count": 8
        }
      ]
    },
    {
      "cell_type": "code",
      "metadata": {
        "colab": {
          "base_uri": "https://localhost:8080/",
          "height": 521
        },
        "id": "mp9c_zWK8rbK",
        "outputId": "385aeff3-f310-4eaa-dd7f-1e035e9a48a4"
      },
      "source": [
        "# 혹시 2000년일까 해서 2000년 자료 확인\r\n",
        "years2 = df2['Year'] == 2000\r\n",
        "yresult2 = df2[years2]\r\n",
        "yresult2"
      ],
      "execution_count": 9,
      "outputs": [
        {
          "output_type": "execute_result",
          "data": {
            "text/html": [
              "<div>\n",
              "<style scoped>\n",
              "    .dataframe tbody tr th:only-of-type {\n",
              "        vertical-align: middle;\n",
              "    }\n",
              "\n",
              "    .dataframe tbody tr th {\n",
              "        vertical-align: top;\n",
              "    }\n",
              "\n",
              "    .dataframe thead th {\n",
              "        text-align: right;\n",
              "    }\n",
              "</style>\n",
              "<table border=\"1\" class=\"dataframe\">\n",
              "  <thead>\n",
              "    <tr style=\"text-align: right;\">\n",
              "      <th></th>\n",
              "      <th>Unnamed: 0</th>\n",
              "      <th>Name</th>\n",
              "      <th>Platform</th>\n",
              "      <th>Year</th>\n",
              "      <th>Genre</th>\n",
              "      <th>Publisher</th>\n",
              "      <th>NA_Sales</th>\n",
              "      <th>EU_Sales</th>\n",
              "      <th>JP_Sales</th>\n",
              "      <th>Other_Sales</th>\n",
              "    </tr>\n",
              "  </thead>\n",
              "  <tbody>\n",
              "    <tr>\n",
              "      <th>29</th>\n",
              "      <td>30</td>\n",
              "      <td>McGrath Vs. Pastrana Freestyle Motocross</td>\n",
              "      <td>PS</td>\n",
              "      <td>2000.0</td>\n",
              "      <td>Racing</td>\n",
              "      <td>Acclaim Entertainment</td>\n",
              "      <td>0.14</td>\n",
              "      <td>0.1</td>\n",
              "      <td>0</td>\n",
              "      <td>0.02</td>\n",
              "    </tr>\n",
              "    <tr>\n",
              "      <th>40</th>\n",
              "      <td>41</td>\n",
              "      <td>Vagrant Story</td>\n",
              "      <td>PS</td>\n",
              "      <td>2000.0</td>\n",
              "      <td>Role-Playing</td>\n",
              "      <td>Crave Entertainment</td>\n",
              "      <td>0.3</td>\n",
              "      <td>0.2</td>\n",
              "      <td>0.3</td>\n",
              "      <td>0.06</td>\n",
              "    </tr>\n",
              "    <tr>\n",
              "      <th>77</th>\n",
              "      <td>78</td>\n",
              "      <td>Buzz Lightyear of Star Command</td>\n",
              "      <td>PS</td>\n",
              "      <td>2000.0</td>\n",
              "      <td>Platform</td>\n",
              "      <td>Activision</td>\n",
              "      <td>0.35</td>\n",
              "      <td>0.24</td>\n",
              "      <td>0</td>\n",
              "      <td>0.04</td>\n",
              "    </tr>\n",
              "    <tr>\n",
              "      <th>84</th>\n",
              "      <td>85</td>\n",
              "      <td>Tom and Jerry in Fists of Furry</td>\n",
              "      <td>N64</td>\n",
              "      <td>2000.0</td>\n",
              "      <td>Fighting</td>\n",
              "      <td>Ubisoft</td>\n",
              "      <td>0.13</td>\n",
              "      <td>0.03</td>\n",
              "      <td>0</td>\n",
              "      <td>0</td>\n",
              "    </tr>\n",
              "    <tr>\n",
              "      <th>107</th>\n",
              "      <td>108</td>\n",
              "      <td>Madden NFL 2001</td>\n",
              "      <td>PS2</td>\n",
              "      <td>2000.0</td>\n",
              "      <td>Sports</td>\n",
              "      <td>Electronic Arts</td>\n",
              "      <td>1.19</td>\n",
              "      <td>0.07</td>\n",
              "      <td>0.05</td>\n",
              "      <td>0.2</td>\n",
              "    </tr>\n",
              "    <tr>\n",
              "      <th>...</th>\n",
              "      <td>...</td>\n",
              "      <td>...</td>\n",
              "      <td>...</td>\n",
              "      <td>...</td>\n",
              "      <td>...</td>\n",
              "      <td>...</td>\n",
              "      <td>...</td>\n",
              "      <td>...</td>\n",
              "      <td>...</td>\n",
              "      <td>...</td>\n",
              "    </tr>\n",
              "    <tr>\n",
              "      <th>16437</th>\n",
              "      <td>16438</td>\n",
              "      <td>Disney's Donald Duck: Goin' Quackers</td>\n",
              "      <td>N64</td>\n",
              "      <td>2000.0</td>\n",
              "      <td>Platform</td>\n",
              "      <td>Ubisoft</td>\n",
              "      <td>0.08</td>\n",
              "      <td>0.02</td>\n",
              "      <td>0</td>\n",
              "      <td>0</td>\n",
              "    </tr>\n",
              "    <tr>\n",
              "      <th>16444</th>\n",
              "      <td>16445</td>\n",
              "      <td>Midway's Greatest Arcade Hits Volume 1</td>\n",
              "      <td>N64</td>\n",
              "      <td>2000.0</td>\n",
              "      <td>Misc</td>\n",
              "      <td>Midway Games</td>\n",
              "      <td>0.19</td>\n",
              "      <td>0.05</td>\n",
              "      <td>0</td>\n",
              "      <td>0</td>\n",
              "    </tr>\n",
              "    <tr>\n",
              "      <th>16446</th>\n",
              "      <td>16447</td>\n",
              "      <td>J-League Jikkyou Winning Eleven 2000</td>\n",
              "      <td>PS</td>\n",
              "      <td>2000.0</td>\n",
              "      <td>Sports</td>\n",
              "      <td>Konami Digital Entertainment</td>\n",
              "      <td>0</td>\n",
              "      <td>0</td>\n",
              "      <td>0.15</td>\n",
              "      <td>0.01</td>\n",
              "    </tr>\n",
              "    <tr>\n",
              "      <th>16479</th>\n",
              "      <td>16480</td>\n",
              "      <td>Crash Bash</td>\n",
              "      <td>PS</td>\n",
              "      <td>2000.0</td>\n",
              "      <td>Misc</td>\n",
              "      <td>Sony Computer Entertainment</td>\n",
              "      <td>1.56</td>\n",
              "      <td>1.47</td>\n",
              "      <td>0.19</td>\n",
              "      <td>0.17</td>\n",
              "    </tr>\n",
              "    <tr>\n",
              "      <th>16586</th>\n",
              "      <td>16587</td>\n",
              "      <td>Jikkyou Powerful Pro Yakyuu 2000 Ketteiban</td>\n",
              "      <td>PS</td>\n",
              "      <td>2000.0</td>\n",
              "      <td>Sports</td>\n",
              "      <td>Konami Digital Entertainment</td>\n",
              "      <td>0</td>\n",
              "      <td>0</td>\n",
              "      <td>0.08</td>\n",
              "      <td>0.01</td>\n",
              "    </tr>\n",
              "  </tbody>\n",
              "</table>\n",
              "<p>345 rows × 10 columns</p>\n",
              "</div>"
            ],
            "text/plain": [
              "       Unnamed: 0  ... Other_Sales\n",
              "29             30  ...        0.02\n",
              "40             41  ...        0.06\n",
              "77             78  ...        0.04\n",
              "84             85  ...           0\n",
              "107           108  ...         0.2\n",
              "...           ...  ...         ...\n",
              "16437       16438  ...           0\n",
              "16444       16445  ...           0\n",
              "16446       16447  ...        0.01\n",
              "16479       16480  ...        0.17\n",
              "16586       16587  ...        0.01\n",
              "\n",
              "[345 rows x 10 columns]"
            ]
          },
          "metadata": {
            "tags": []
          },
          "execution_count": 9
        }
      ]
    },
    {
      "cell_type": "code",
      "metadata": {
        "colab": {
          "base_uri": "https://localhost:8080/"
        },
        "id": "3XLeRUyr_AiK",
        "outputId": "12a90e90-5a2d-4080-c294-ea9d3a21dc91"
      },
      "source": [
        "# 년도별 자료갯수 확인\r\n",
        "pd.set_option('display.max_row', 500)\r\n",
        "df2['Year'].sort_values().value_counts()"
      ],
      "execution_count": 10,
      "outputs": [
        {
          "output_type": "execute_result",
          "data": {
            "text/plain": [
              "2009.0    1418\n",
              "2008.0    1413\n",
              "2010.0    1246\n",
              "2007.0    1192\n",
              "2011.0    1123\n",
              "2006.0     998\n",
              "2005.0     930\n",
              "2002.0     823\n",
              "2003.0     767\n",
              "2004.0     736\n",
              "2012.0     650\n",
              "2015.0     606\n",
              "2014.0     578\n",
              "2013.0     543\n",
              "2001.0     478\n",
              "1998.0     374\n",
              "2000.0     345\n",
              "2016.0     337\n",
              "1999.0     336\n",
              "1997.0     287\n",
              "1996.0     259\n",
              "1995.0     215\n",
              "1994.0     120\n",
              "1993.0      60\n",
              "1981.0      46\n",
              "1992.0      43\n",
              "1991.0      41\n",
              "1982.0      36\n",
              "1986.0      20\n",
              "1989.0      17\n",
              "1983.0      17\n",
              "1990.0      16\n",
              "1987.0      16\n",
              "1988.0      15\n",
              "1985.0      14\n",
              "1984.0      14\n",
              "11.0        10\n",
              "9.0         10\n",
              "8.0         10\n",
              "1980.0       8\n",
              "3.0          7\n",
              "10.0         7\n",
              "6.0          7\n",
              "15.0         5\n",
              "16.0         5\n",
              "4.0          4\n",
              "5.0          4\n",
              "95.0         4\n",
              "2.0          3\n",
              "7.0          3\n",
              "0.0          3\n",
              "96.0         3\n",
              "98.0         3\n",
              "2017.0       3\n",
              "12.0         2\n",
              "14.0         2\n",
              "97.0         2\n",
              "13.0         2\n",
              "1.0          2\n",
              "2020.0       1\n",
              "94.0         1\n",
              "86.0         1\n",
              "Name: Year, dtype: int64"
            ]
          },
          "metadata": {
            "tags": []
          },
          "execution_count": 10
        }
      ]
    },
    {
      "cell_type": "code",
      "metadata": {
        "colab": {
          "base_uri": "https://localhost:8080/"
        },
        "id": "kq5Kw4WGDQUc",
        "outputId": "a7034d97-5c21-45bc-b16c-8b36a9148d04"
      },
      "source": [
        "# 년도가 어떤 데이터로 이루어져 있는지 확인\r\n",
        "df2['Year'].drop_duplicates().sort_values()"
      ],
      "execution_count": 11,
      "outputs": [
        {
          "output_type": "execute_result",
          "data": {
            "text/plain": [
              "9276        0.0\n",
              "2249        1.0\n",
              "8144        2.0\n",
              "768         3.0\n",
              "2548        4.0\n",
              "2467        5.0\n",
              "1364        6.0\n",
              "3879        7.0\n",
              "1684        8.0\n",
              "74          9.0\n",
              "3044       10.0\n",
              "213        11.0\n",
              "10811      12.0\n",
              "8550       13.0\n",
              "4727       14.0\n",
              "304        15.0\n",
              "4010       16.0\n",
              "4365       86.0\n",
              "15985      94.0\n",
              "4807       95.0\n",
              "906        96.0\n",
              "81         97.0\n",
              "3492       98.0\n",
              "5723     1980.0\n",
              "664      1981.0\n",
              "210      1982.0\n",
              "466      1983.0\n",
              "37       1984.0\n",
              "59       1985.0\n",
              "1768     1986.0\n",
              "156      1987.0\n",
              "540      1988.0\n",
              "801      1989.0\n",
              "260      1990.0\n",
              "373      1991.0\n",
              "346      1992.0\n",
              "99       1993.0\n",
              "236      1994.0\n",
              "86       1995.0\n",
              "26       1996.0\n",
              "21       1997.0\n",
              "46       1998.0\n",
              "70       1999.0\n",
              "29       2000.0\n",
              "10       2001.0\n",
              "20       2002.0\n",
              "11       2003.0\n",
              "28       2004.0\n",
              "5        2005.0\n",
              "14       2006.0\n",
              "8        2007.0\n",
              "0        2008.0\n",
              "1        2009.0\n",
              "2        2010.0\n",
              "6        2011.0\n",
              "110      2012.0\n",
              "24       2013.0\n",
              "17       2014.0\n",
              "18       2015.0\n",
              "56       2016.0\n",
              "5310     2017.0\n",
              "6906     2020.0\n",
              "Name: Year, dtype: float64"
            ]
          },
          "metadata": {
            "tags": []
          },
          "execution_count": 11
        }
      ]
    },
    {
      "cell_type": "code",
      "metadata": {
        "colab": {
          "base_uri": "https://localhost:8080/"
        },
        "id": "JVsSAoS2FfR9",
        "outputId": "44576816-d031-46fb-8028-438fdc0d025e"
      },
      "source": [
        "df2 = df2.replace({0:2000})\r\n",
        "df2 = df2.replace({1:2001})\r\n",
        "df2 = df2.replace({2:2002})\r\n",
        "df2 = df2.replace({3:2003})\r\n",
        "df2 = df2.replace({4:2004})\r\n",
        "df2 = df2.replace({5:2005})\r\n",
        "df2 = df2.replace({6:2006})\r\n",
        "df2 = df2.replace({7:2007})\r\n",
        "df2 = df2.replace({8:2008})\r\n",
        "df2 = df2.replace({9:2009})\r\n",
        "df2 = df2.replace({10:2010})\r\n",
        "df2 = df2.replace({11:2011})\r\n",
        "df2 = df2.replace({12:2012})\r\n",
        "df2 = df2.replace({13:2013})\r\n",
        "df2 = df2.replace({14:2014})\r\n",
        "df2 = df2.replace({15:2015})\r\n",
        "df2 = df2.replace({16:2016})\r\n",
        "df2 = df2.replace({86:1984})\r\n",
        "df2 = df2.replace({94:1994})\r\n",
        "df2 = df2.replace({95:1995})\r\n",
        "df2 = df2.replace({96:1996})\r\n",
        "df2 = df2.replace({97:1997})\r\n",
        "df2 = df2.replace({98:1998})\r\n",
        "df2['Year'].drop_duplicates().sort_values()"
      ],
      "execution_count": 12,
      "outputs": [
        {
          "output_type": "execute_result",
          "data": {
            "text/plain": [
              "5723    1980.0\n",
              "664     1981.0\n",
              "210     1982.0\n",
              "466     1983.0\n",
              "37      1984.0\n",
              "59      1985.0\n",
              "1768    1986.0\n",
              "156     1987.0\n",
              "540     1988.0\n",
              "801     1989.0\n",
              "260     1990.0\n",
              "373     1991.0\n",
              "346     1992.0\n",
              "99      1993.0\n",
              "236     1994.0\n",
              "86      1995.0\n",
              "26      1996.0\n",
              "21      1997.0\n",
              "46      1998.0\n",
              "70      1999.0\n",
              "29      2000.0\n",
              "10      2001.0\n",
              "20      2002.0\n",
              "11      2003.0\n",
              "28      2004.0\n",
              "5       2005.0\n",
              "14      2006.0\n",
              "8       2007.0\n",
              "0       2008.0\n",
              "1       2009.0\n",
              "2       2010.0\n",
              "6       2011.0\n",
              "110     2012.0\n",
              "24      2013.0\n",
              "17      2014.0\n",
              "18      2015.0\n",
              "56      2016.0\n",
              "5310    2017.0\n",
              "6906    2020.0\n",
              "Name: Year, dtype: float64"
            ]
          },
          "metadata": {
            "tags": []
          },
          "execution_count": 12
        }
      ]
    },
    {
      "cell_type": "code",
      "metadata": {
        "colab": {
          "base_uri": "https://localhost:8080/"
        },
        "id": "F_ldiImYIF-H",
        "outputId": "06af0157-e68c-42fa-c6f3-a5b57c829988"
      },
      "source": [
        "# 잘못 입력된 년도 수정\r\n",
        "df2['Year'].value_counts()"
      ],
      "execution_count": 13,
      "outputs": [
        {
          "output_type": "execute_result",
          "data": {
            "text/plain": [
              "2009.0    1428\n",
              "2008.0    1423\n",
              "2010.0    1253\n",
              "2007.0    1195\n",
              "2011.0    1133\n",
              "2006.0    1005\n",
              "2005.0     934\n",
              "2002.0     826\n",
              "2003.0     774\n",
              "2004.0     740\n",
              "2012.0     652\n",
              "2015.0     611\n",
              "2014.0     580\n",
              "2013.0     545\n",
              "2001.0     480\n",
              "1998.0     377\n",
              "2000.0     348\n",
              "2016.0     342\n",
              "1999.0     336\n",
              "1997.0     289\n",
              "1996.0     262\n",
              "1995.0     219\n",
              "1994.0     121\n",
              "1993.0      60\n",
              "1981.0      46\n",
              "1992.0      43\n",
              "1991.0      41\n",
              "1982.0      36\n",
              "1986.0      20\n",
              "1983.0      17\n",
              "1989.0      17\n",
              "1987.0      16\n",
              "1990.0      16\n",
              "1984.0      15\n",
              "1988.0      15\n",
              "1985.0      14\n",
              "1980.0       8\n",
              "2017.0       3\n",
              "2020.0       1\n",
              "Name: Year, dtype: int64"
            ]
          },
          "metadata": {
            "tags": []
          },
          "execution_count": 13
        }
      ]
    },
    {
      "cell_type": "code",
      "metadata": {
        "colab": {
          "base_uri": "https://localhost:8080/"
        },
        "id": "qHC7PllLIxtn",
        "outputId": "68e8b393-e317-44b8-9250-ff481fb23e98"
      },
      "source": [
        "# 다시 이상치 확인\r\n",
        "print(heapq.nlargest(20, df2['Year']))\r\n",
        "print(heapq.nsmallest(20, df2['Year']))"
      ],
      "execution_count": 14,
      "outputs": [
        {
          "output_type": "stream",
          "text": [
            "[2020.0, 2017.0, 2017.0, 2017.0, 2016.0, 2016.0, 2016.0, 2016.0, 2016.0, 2016.0, 2016.0, 2016.0, 2016.0, 2016.0, 2016.0, 2016.0, 2016.0, 2016.0, 2016.0, 2016.0]\n",
            "[1980.0, 1980.0, 1980.0, 1980.0, 1980.0, 1980.0, 1980.0, 1980.0, 1981.0, 1981.0, 1981.0, 1981.0, 1981.0, 1981.0, 1981.0, 1981.0, 1981.0, 1981.0, 1981.0, 1981.0]\n"
          ],
          "name": "stdout"
        }
      ]
    },
    {
      "cell_type": "code",
      "metadata": {
        "colab": {
          "base_uri": "https://localhost:8080/"
        },
        "id": "t0kfB0dEI1bP",
        "outputId": "dcb0c317-b129-4ceb-da5e-03abca66fd7d"
      },
      "source": [
        "df2.info()"
      ],
      "execution_count": 15,
      "outputs": [
        {
          "output_type": "stream",
          "text": [
            "<class 'pandas.core.frame.DataFrame'>\n",
            "Int64Index: 16241 entries, 0 to 16597\n",
            "Data columns (total 10 columns):\n",
            " #   Column       Non-Null Count  Dtype  \n",
            "---  ------       --------------  -----  \n",
            " 0   Unnamed: 0   16241 non-null  int64  \n",
            " 1   Name         16241 non-null  object \n",
            " 2   Platform     16241 non-null  object \n",
            " 3   Year         16241 non-null  float64\n",
            " 4   Genre        16241 non-null  object \n",
            " 5   Publisher    16241 non-null  object \n",
            " 6   NA_Sales     16241 non-null  object \n",
            " 7   EU_Sales     16241 non-null  object \n",
            " 8   JP_Sales     16241 non-null  object \n",
            " 9   Other_Sales  16241 non-null  object \n",
            "dtypes: float64(1), int64(1), object(8)\n",
            "memory usage: 1.4+ MB\n"
          ],
          "name": "stdout"
        }
      ]
    },
    {
      "cell_type": "code",
      "metadata": {
        "id": "I52vT-j3XvCZ"
      },
      "source": [
        "del df2['Unnamed: 0']"
      ],
      "execution_count": 16,
      "outputs": []
    },
    {
      "cell_type": "code",
      "metadata": {
        "id": "KidryE1JjqrI"
      },
      "source": [
        "df2['NA_Sales'] = df2['NA_Sales'].str.replace('M','')\n",
        "df2['EU_Sales'] = df2['EU_Sales'].str.replace('M','')\n",
        "df2['JP_Sales'] = df2['JP_Sales'].str.replace('M','')\n",
        "df2['Other_Sales'] = df2['Other_Sales'].str.replace('M','')\n",
        "\n",
        "for i in df2['NA_Sales']:\n",
        "  if 'K' in i:\n",
        "    temp = i.replace('K', '')\n",
        "    temp = float(temp)\n",
        "    temp = temp * 0.001\n",
        "    temp = str(temp)\n",
        "    df2['NA_Sales'] = df2['NA_Sales'].replace(i, temp)\n",
        "\n",
        "for i in df2['EU_Sales']:\n",
        "  if 'K' in i:\n",
        "    temp = i.replace('K', '')\n",
        "    temp = float(temp)\n",
        "    temp = temp * 0.001\n",
        "    temp = str(temp)\n",
        "    df2['EU_Sales'] = df2['EU_Sales'].replace(i, temp)\n",
        "\n",
        "for i in df2['JP_Sales']:\n",
        "  if 'K' in i:\n",
        "    temp = i.replace('K', '')\n",
        "    temp = float(temp)\n",
        "    temp = temp * 0.001\n",
        "    temp = str(temp)\n",
        "    df2['JP_Sales'] = df2['JP_Sales'].replace(i, temp)\n",
        "\n",
        "for i in df2['Other_Sales']:\n",
        "  if 'K' in i:\n",
        "    temp = i.replace('K', '')\n",
        "    temp = float(temp)\n",
        "    temp = temp * 0.001\n",
        "    temp = str(temp)\n",
        "    df2['Other_Sales'] = df2['Other_Sales'].replace(i, temp)\n",
        "\n",
        "df2['NA_Sales'] = pd.to_numeric(df2['NA_Sales'])\n",
        "df2['EU_Sales'] = pd.to_numeric(df2['EU_Sales'])\n",
        "df2['JP_Sales'] = pd.to_numeric(df2['JP_Sales'])\n",
        "df2['Other_Sales'] = pd.to_numeric(df2['Other_Sales'])"
      ],
      "execution_count": 20,
      "outputs": []
    },
    {
      "cell_type": "code",
      "metadata": {
        "colab": {
          "base_uri": "https://localhost:8080/"
        },
        "id": "7UiKNggOZYfY",
        "outputId": "44d190dc-fa7c-4b24-a7ee-1440d75e21a3"
      },
      "source": [
        "df2['Year'].drop_duplicates()"
      ],
      "execution_count": 21,
      "outputs": [
        {
          "output_type": "execute_result",
          "data": {
            "text/plain": [
              "0        1980.0\n",
              "8        1981.0\n",
              "54       1982.0\n",
              "90       1983.0\n",
              "107      1984.0\n",
              "122      1985.0\n",
              "136      1986.0\n",
              "156      1987.0\n",
              "172      1988.0\n",
              "187      1989.0\n",
              "204      1990.0\n",
              "220      1991.0\n",
              "261      1992.0\n",
              "304      1993.0\n",
              "364      1994.0\n",
              "485      1995.0\n",
              "704      1996.0\n",
              "966      1997.0\n",
              "1255     1998.0\n",
              "1632     1999.0\n",
              "1968     2000.0\n",
              "2316     2001.0\n",
              "2796     2002.0\n",
              "3622     2003.0\n",
              "4396     2004.0\n",
              "5136     2005.0\n",
              "6070     2006.0\n",
              "7075     2007.0\n",
              "8270     2008.0\n",
              "9693     2009.0\n",
              "11121    2010.0\n",
              "12374    2011.0\n",
              "13507    2012.0\n",
              "14159    2013.0\n",
              "14704    2014.0\n",
              "15284    2015.0\n",
              "15895    2016.0\n",
              "16237    2017.0\n",
              "16240    2020.0\n",
              "Name: Year, dtype: float64"
            ]
          },
          "metadata": {
            "tags": []
          },
          "execution_count": 21
        }
      ]
    },
    {
      "cell_type": "code",
      "metadata": {
        "colab": {
          "base_uri": "https://localhost:8080/"
        },
        "id": "BqdO3b4BZy1Z",
        "outputId": "89112405-3d7e-4146-d97f-bbc755f58fe5"
      },
      "source": [
        "df2['Genre'].drop_duplicates()"
      ],
      "execution_count": 22,
      "outputs": [
        {
          "output_type": "execute_result",
          "data": {
            "text/plain": [
              "0          Fighting\n",
              "1           Shooter\n",
              "3              Misc\n",
              "4            Action\n",
              "13         Platform\n",
              "14           Racing\n",
              "20           Puzzle\n",
              "22           Sports\n",
              "30       Simulation\n",
              "90        Adventure\n",
              "155    Role-Playing\n",
              "220        Strategy\n",
              "Name: Genre, dtype: object"
            ]
          },
          "metadata": {
            "tags": []
          },
          "execution_count": 22
        }
      ]
    },
    {
      "cell_type": "code",
      "metadata": {
        "colab": {
          "base_uri": "https://localhost:8080/"
        },
        "id": "tO5QUSYeZ66B",
        "outputId": "f3a56022-bb60-420e-9499-3799464aec98"
      },
      "source": [
        "df2['Publisher'].drop_duplicates()"
      ],
      "execution_count": 23,
      "outputs": [
        {
          "output_type": "execute_result",
          "data": {
            "text/plain": [
              "0                Activision\n",
              "1                     Atari\n",
              "8               Tigervision\n",
              "9            Starpath Corp.\n",
              "10       Mattel Interactive\n",
              "                ...        \n",
              "16137           Hello Games\n",
              "16151              Sold Out\n",
              "16205            Epic Games\n",
              "16224       Stainless Games\n",
              "16235     UIG Entertainment\n",
              "Name: Publisher, Length: 575, dtype: object"
            ]
          },
          "metadata": {
            "tags": []
          },
          "execution_count": 23
        }
      ]
    },
    {
      "cell_type": "markdown",
      "metadata": {
        "id": "D1Ew0CP0wpEq"
      },
      "source": [
        "데이터\n",
        "\n",
        "게임명, 출판사, 이용방법, 출시년도, 장르, 판매량(북미, 유럽, 일본, 기타)\n",
        "\n",
        "1. 지역 : 지역별 매출 - 장르\n",
        "\n",
        "2. 연도 : 연도 - 장르\n",
        "\n",
        "3. 매출 : 지역 - 연도/ 연도 - 판매량 / 이용방법 - 판매량\n",
        "\n"
      ]
    },
    {
      "cell_type": "code",
      "metadata": {
        "id": "ATCImIzMZIgB"
      },
      "source": [
        "# 질문 1. 지역에 따라서 선호하는 게임장르가 다를까?"
      ],
      "execution_count": 24,
      "outputs": []
    },
    {
      "cell_type": "code",
      "metadata": {
        "colab": {
          "base_uri": "https://localhost:8080/",
          "height": 616
        },
        "id": "gXtLiPwKnxlK",
        "outputId": "dd9fb995-19a0-408d-9fd1-df5873be8afa"
      },
      "source": [
        "import matplotlib.pyplot as plt\n",
        "dfg = pd.concat([df2['Genre'], df2.loc[:, 'NA_Sales':'Other_Sales']], axis = 1)\n",
        "df_gen = dfg.set_index('Genre', inplace=True)\n",
        "df_gen = dfg.groupby('Genre').sum()\n",
        "\n",
        "fig, axs = plt.subplots(2, 2, figsize=(30, 15))\n",
        "\n",
        "axs[0,0].set_title('NA')\n",
        "axs[0,0].bar(df_gen.index, df_gen['NA_Sales'])\n",
        "axs[0,1].set_title('EU')\n",
        "axs[0,1].bar(df_gen.index, df_gen['EU_Sales'])\n",
        "axs[1,0].set_title('JP')\n",
        "axs[1,0].bar(df_gen.index, df_gen['JP_Sales'])\n",
        "axs[1,1].set_title('Other')\n",
        "axs[1,1].bar(df_gen.index, df_gen['Other_Sales'])"
      ],
      "execution_count": 59,
      "outputs": [
        {
          "output_type": "execute_result",
          "data": {
            "text/plain": [
              "<BarContainer object of 12 artists>"
            ]
          },
          "metadata": {
            "tags": []
          },
          "execution_count": 59
        },
        {
          "output_type": "display_data",
          "data": {
            "image/png": "[encoded data removed]",
            "text/plain": [
              "<Figure size 2160x1080 with 4 Axes>"
            ]
          },
          "metadata": {
            "tags": [],
            "needs_background": "light"
          }
        }
      ]
    }
  ]
}